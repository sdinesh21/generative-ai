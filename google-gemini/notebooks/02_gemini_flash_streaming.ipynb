{
 "cells": [
  {
   "cell_type": "markdown",
   "metadata": {},
   "source": [
    "# Exploring Gemini 2.0 Flash Model - Streaming Response\n",
    "\n",
    "This notebook demonstrates how to use Google's python-genai SDK to interact with the Gemini 2.0 Flash model with streaming responses. Streaming is particularly useful for:\n",
    "- Real-time applications where you want to show responses as they're generated\n",
    "- Long-form content generation where you want to see progress\n",
    "- Interactive applications that need to display partial results\n",
    "\n",
    "## Prerequisites\n",
    "Before running this notebook, ensure you have:\n",
    "\n",
    "1. A Gemini API key:\n",
    "   - Go to [Google AI Studio](https://aistudio.google.com)\n",
    "   - Click on 'Get API key' in the top right\n",
    "   - Create a new API key or use an existing one\n",
    "   - Copy the API key for use in step 2\n",
    "\n",
    "## What You'll Learn\n",
    "- How to set up streaming with the Gemini model\n",
    "- How to process and display streaming responses\n",
    "- Understanding the differences between streaming and basic responses"
   ]
  },
  {
   "cell_type": "markdown",
   "metadata": {},
   "source": [
    "## Step 1: Install Required Packages\n",
    "First, we'll install the necessary packages:\n",
    "- `google-genai`: The official Google Generative AI SDK"
   ]
  },
  {
   "cell_type": "code",
   "execution_count": null,
   "metadata": {},
   "outputs": [],
   "source": [
    "# Install required packages\n",
    "%pip install google-genai"
   ]
  },
  {
   "cell_type": "markdown",
   "metadata": {},
   "source": [
    "## Step 2: Import Dependencies and Configure API Key\n",
    "\n",
    "Now we'll:\n",
    "1. Import the required modules\n",
    "3. Configure the SDK with our API key\n",
    "\n",
    "Note: The .env file should be in the project root and contain:\n",
    "```\n",
    "GEMINI_API_KEY=your_api_key_here\n",
    "```"
   ]
  },
  {
   "cell_type": "code",
   "execution_count": null,
   "metadata": {},
   "outputs": [],
   "source": [
    "from google import genai\n",
    "\n",
    "# Configure the API key\n",
    "GEMINI_API_KEY = ''\n",
    "if not GEMINI_API_KEY:\n",
    "    raise ValueError(\"Please set the GEMINI_API_KEY\")\n",
    "\n",
    "# Initialize the SDK\n",
    "client = genai.Client(api_key=GEMINI_API_KEY)"
   ]
  },
  {
   "cell_type": "markdown",
   "metadata": {},
   "source": [
    "## Step 3: Initialize Model and Generate Streaming Response\n",
    "\n",
    "Now we'll:\n",
    "1. Initialize the Gemini 2.0 Flash model\n",
    "2. Create a prompt\n",
    "3. Generate and display the streaming response\n",
    "\n",
    "Key differences from basic response:\n",
    "- We set `stream=True` in generate_content()\n",
    "- The response is an iterator that yields chunks of text\n",
    "- We need to iterate through the chunks to get the complete response\n",
    "\n",
    "Watch how the response appears gradually, word by word!"
   ]
  },
  {
   "cell_type": "code",
   "execution_count": 3,
   "metadata": {},
   "outputs": [
    {
     "name": "stdout",
     "output_type": "stream",
     "text": [
      "Model Response (streaming):\n",
      "While both traditional machine learning and deep learning are subfields of Artificial Intelligence focused on enabling computers to learn from data, they differ significantly in several key aspects:\n",
      "\n",
      "**1. Data Representation/Feature Engineering:**\n",
      "\n",
      "*   **Traditional Machine Learning:** Relies heavily on **manual feature engineering**.  This means a human expert needs to identify, extract, and engineer the relevant features from the raw data that the machine learning model can use to make predictions. This is a crucial and often time-consuming step.  The performance of the model is highly dependent on the quality of these engineered features.\n",
      "*   **Deep Learning:**  A major strength of deep learning is its ability to **automatically learn hierarchical representations (features) directly from the raw data**.  Deep learning algorithms, particularly deep neural networks, can discover intricate patterns and features without explicit human intervention.  This eliminates the need for manual feature engineering.\n",
      "\n",
      "**2. Algorithm Architecture:**\n",
      "\n",
      "*   **Traditional Machine Learning:** Employs a variety of algorithms like Linear Regression, Logistic Regression, Support Vector Machines (SVMs), Decision Trees, Random Forests, and Naive Bayes. These algorithms are generally simpler in structure.\n",
      "*   **Deep Learning:** Primarily uses **artificial neural networks with multiple layers (hence \"deep\")**. These layers are interconnected and learn different levels of abstraction from the data. Common deep learning architectures include Convolutional Neural Networks (CNNs), Recurrent Neural Networks (RNNs), and Transformers.\n",
      "\n",
      "**3. Amount of Data Required:**\n",
      "\n",
      "*   **Traditional Machine Learning:**  Can perform reasonably well with **smaller datasets**.  They may even outperform deep learning models if the dataset is limited because deep learning models are prone to overfitting with insufficient data.\n",
      "*   **Deep Learning:**  Typically requires **massive amounts of data** to train effectively.  The complex architectures and numerous parameters in deep learning models need large datasets to generalize well and avoid overfitting. The \"deep\" architecture is what allows it to learn complex patterns, but this requires many training examples.\n",
      "\n",
      "**4. Computational Power:**\n",
      "\n",
      "*   **Traditional Machine Learning:**  Generally requires **less computational power** for training.  Can often be trained on CPUs.\n",
      "*   **Deep Learning:**  Demands **significantly higher computational power**, often requiring GPUs (Graphics Processing Units) or specialized hardware like TPUs (Tensor Processing Units) for training in a reasonable timeframe.\n",
      "\n",
      "**5. Training Time:**\n",
      "\n",
      "*   **Traditional Machine Learning:**  Training times are typically **shorter**.\n",
      "*   **Deep Learning:**  Training times can be **substantially longer**, ranging from hours to days or even weeks, depending on the size of the data, the complexity of the network, and the available computational resources.\n",
      "\n",
      "**6. Interpretability:**\n",
      "\n",
      "*   **Traditional Machine Learning:**  Models are generally **more interpretable**. It's often easier to understand how a traditional machine learning model arrives at a particular prediction (e.g., the impact of each feature in a linear regression model).\n",
      "*   **Deep Learning:**  Models are often considered **\"black boxes\"** and are **less interpretable**.  It's difficult to understand the exact reasoning behind a deep learning model's predictions due to the complex interactions within the network.  Explainable AI (XAI) techniques are being developed to address this issue.\n",
      "\n",
      "**7. Task Complexity:**\n",
      "\n",
      "*   **Traditional Machine Learning:**  Well-suited for **simpler, well-defined tasks** where feature engineering can effectively capture the relevant information.\n",
      "*   **Deep Learning:**  Excels at **complex tasks** involving unstructured data (images, audio, text) where manual feature engineering is challenging or impossible. Examples include image recognition, natural language processing, and speech recognition.\n",
      "\n",
      "**Here's a table summarizing the key differences:**\n",
      "\n",
      "| Feature             | Traditional Machine Learning      | Deep Learning                     |\n",
      "|----------------------|-----------------------------------|------------------------------------|\n",
      "| Feature Engineering  | Manual                            | Automatic                          |\n",
      "| Algorithm            | Simpler algorithms (e.g., SVM, Decision Trees) | Deep Neural Networks (CNN, RNN, Transformer) |\n",
      "| Data Requirements   | Smaller datasets often sufficient   | Large datasets required           |\n",
      "| Computational Power | Lower                             | Higher (GPUs/TPUs often needed) |\n",
      "| Training Time       | Shorter                           | Longer                            |\n",
      "| Interpretability    | More interpretable                  | Less interpretable (\"Black Box\") |\n",
      "| Task Complexity     | Simpler tasks                     | Complex tasks                      |\n",
      "\n",
      "**In essence:**\n",
      "\n",
      "*   If you have a well-defined problem with a limited dataset and the ability to engineer meaningful features, traditional machine learning might be the more appropriate choice.\n",
      "*   If you have a massive dataset, limited ability to do manual feature engineering, and a complex problem involving unstructured data, deep learning is likely the better approach.\n",
      "\n",
      "It's important to remember that these are general guidelines. The best approach depends on the specific problem and available resources.  It is often helpful to experiment with both approaches.\n"
     ]
    }
   ],
   "source": [
    "# Initialize the model\n",
    "model_name = 'gemini-2.0-flash'\n",
    "\n",
    "# Example prompt\n",
    "prompt = \"What are the key differences between traditional machine learning and deep learning?\"\n",
    "\n",
    "# Generate streaming response\n",
    "print(\"Model Response (streaming):\")\n",
    "for chunk in client.models.generate_content_stream(\n",
    "    model=model_name, contents=prompt\n",
    "):\n",
    "    # Print the response as it streams\n",
    "    print(chunk.text, end='')"
   ]
  },
  {
   "cell_type": "markdown",
   "metadata": {},
   "source": [
    "## Try It Yourself!\n",
    "\n",
    "Try these examples that work well with streaming:\n",
    "\n",
    "1. Long-form content:\n",
    "```python\n",
    "prompt = \"Write a detailed story about a space exploration mission\"\n",
    "```\n",
    "\n",
    "2. Step-by-step explanations:\n",
    "```python\n",
    "prompt = \"Explain how to build a web application from scratch, including all major steps\"\n",
    "```\n",
    "\n",
    "3. Creative writing:\n",
    "```python\n",
    "prompt = \"Write a poem about artificial intelligence, with at least 4 verses\"\n",
    "```\n",
    "\n",
    "## Next Steps\n",
    "\n",
    "- Try different types of prompts that benefit from streaming\n",
    "- Experiment with processing the chunks differently (e.g., counting tokens, analyzing partial responses)\n",
    "- Learn about advanced streaming features in the [official documentation](https://googleapis.github.io/python-genai/)\n",
    "- Consider how streaming could be integrated into your applications"
   ]
  }
 ],
 "metadata": {
  "kernelspec": {
   "display_name": ".venv",
   "language": "python",
   "name": "python3"
  },
  "language_info": {
   "codemirror_mode": {
    "name": "ipython",
    "version": 3
   },
   "file_extension": ".py",
   "mimetype": "text/x-python",
   "name": "python",
   "nbconvert_exporter": "python",
   "pygments_lexer": "ipython3",
   "version": "3.12.8"
  }
 },
 "nbformat": 4,
 "nbformat_minor": 4
}
